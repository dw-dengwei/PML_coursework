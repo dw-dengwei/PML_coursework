{
 "cells": [
  {
   "cell_type": "code",
   "execution_count": 22,
   "metadata": {},
   "outputs": [],
   "source": [
    "import cv2\n",
    "import os\n",
    "import numpy as np\n",
    "from os import path\n",
    "\n",
    "root = '/home/dw-dengwei/dataset/tissue/train/'"
   ]
  },
  {
   "cell_type": "code",
   "execution_count": 10,
   "metadata": {},
   "outputs": [
    {
     "name": "stdout",
     "output_type": "stream",
     "text": [
      "64.92524191326531\n"
     ]
    }
   ],
   "source": [
    "num = 0\n",
    "mu = 0\n",
    "for f in os.listdir(root):\n",
    "    img_path = path.join(root, f)\n",
    "    img = cv2.imread(img_path)[:, :, 0].reshape(-1)\n",
    "    mu += img.sum()\n",
    "    num += 28 * 28\n",
    "    # print(img.shape)\n",
    "\n",
    "mu /= num\n",
    "print(mu)"
   ]
  },
  {
   "cell_type": "code",
   "execution_count": 26,
   "metadata": {},
   "outputs": [
    {
     "name": "stdout",
     "output_type": "stream",
     "text": [
      "57.59275746686797\n"
     ]
    }
   ],
   "source": [
    "sigma = 0\n",
    "for i in os.listdir(root):\n",
    "    img_path = path.join(root, f)\n",
    "    img = cv2.imread(img_path)[:, :, 0].reshape(-1)\n",
    "    # print(img[:10])\n",
    "    img = img - mu\n",
    "    # print(img[:10])\n",
    "    img = np.multiply(img, img)\n",
    "    # print(img[:10])\n",
    "    sigma += img.sum()\n",
    "\n",
    "sigma /= num\n",
    "import math\n",
    "sigma = math.sqrt(sigma)\n",
    "print(sigma)"
   ]
  }
 ],
 "metadata": {
  "kernelspec": {
   "display_name": "Python 3.9.13 ('torch')",
   "language": "python",
   "name": "python3"
  },
  "language_info": {
   "codemirror_mode": {
    "name": "ipython",
    "version": 3
   },
   "file_extension": ".py",
   "mimetype": "text/x-python",
   "name": "python",
   "nbconvert_exporter": "python",
   "pygments_lexer": "ipython3",
   "version": "3.9.13"
  },
  "orig_nbformat": 4,
  "vscode": {
   "interpreter": {
    "hash": "ecd59a109af3e75fb1e8b2befe8d8aff484cbbe1e2075db6bede26970313e655"
   }
  }
 },
 "nbformat": 4,
 "nbformat_minor": 2
}
