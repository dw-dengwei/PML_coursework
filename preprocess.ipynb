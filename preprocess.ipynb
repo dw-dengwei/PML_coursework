{
 "cells": [
  {
   "cell_type": "code",
   "execution_count": 1,
   "metadata": {},
   "outputs": [],
   "source": [
    "import cv2\n",
    "import matplotlib.pyplot as plt\n",
    "import torchvision.transforms as transforms\n",
    "from PIL import Image\n",
    "import torch\n",
    "\n",
    "path = \"/home/dw-dengwei/dataset/tissue/train/000006.jpg\""
   ]
  },
  {
   "cell_type": "code",
   "execution_count": 3,
   "metadata": {},
   "outputs": [
    {
     "data": {
      "image/png": "[encoded data removed]",
      "text/plain": [
       "<Figure size 432x288 with 1 Axes>"
      ]
     },
     "metadata": {
      "needs_background": "light"
     },
     "output_type": "display_data"
    }
   ],
   "source": [
    "img = cv2.imread(path)\n",
    "threthod = 64\n",
    "img[img < threthod] = 0\n",
    "img[img > threthod] = 255\n",
    "\n",
    "img_pil = Image.fromarray(cv2.cvtColor(img,cv2.COLOR_BGR2RGB))\n",
    "\n",
    "def transform(img) -> torch.Tensor:\n",
    "    tf = transforms.Compose([\n",
    "            # transforms.Resize(256),\n",
    "            # transforms.CenterCrop(224),\n",
    "            transforms.ToTensor(),\n",
    "            transforms.Lambda(lambda x: x.repeat(3, 1, 1)),\n",
    "            # transforms.Normalize(\n",
    "            # mean=[0.485, 0.456, 0.406],\n",
    "            # std=[0.229, 0.224, 0.225])\n",
    "        ])\n",
    "    return tf(img) \n",
    "\n",
    "plt.imshow(img)\n",
    "plt.show()"
   ]
  }
 ],
 "metadata": {
  "kernelspec": {
   "display_name": "Python 3.9.13 ('torch')",
   "language": "python",
   "name": "python3"
  },
  "language_info": {
   "codemirror_mode": {
    "name": "ipython",
    "version": 3
   },
   "file_extension": ".py",
   "mimetype": "text/x-python",
   "name": "python",
   "nbconvert_exporter": "python",
   "pygments_lexer": "ipython3",
   "version": "3.9.13"
  },
  "orig_nbformat": 4,
  "vscode": {
   "interpreter": {
    "hash": "ecd59a109af3e75fb1e8b2befe8d8aff484cbbe1e2075db6bede26970313e655"
   }
  }
 },
 "nbformat": 4,
 "nbformat_minor": 2
}
